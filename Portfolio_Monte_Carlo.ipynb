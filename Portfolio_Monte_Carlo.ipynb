{
 "cells": [
  {
   "cell_type": "markdown",
   "id": "d9b1e8c6",
   "metadata": {},
   "source": [
    "## Imports"
   ]
  },
  {
   "cell_type": "code",
   "execution_count": 26,
   "id": "e105afeb",
   "metadata": {},
   "outputs": [],
   "source": [
    "import xlwings as xw\n",
    "from xlwings import constants\n",
    "import pandas as pd\n",
    "import random\n",
    "import numpy as np\n",
    "from numpy.random import uniform\n",
    "import matplotlib.pyplot as plt\n",
    "# test line from Git",
    "from datetime import date,timedelta"
   ]
  },
  {
   "cell_type": "markdown",
   "id": "c9880f78",
   "metadata": {},
   "source": [
    "## Plan\n",
    "\n",
    "1) For each company:  \n",
    "- capital_in = fund_size / # of companies (we'll deal with reserves in 2.0)  \n",
    "-  capital_out = lognormal(1,1.075,100_000)  \n",
    "- date_in = triangle(inv_period_start,median,inv_period_end)  \n",
    "- date_out = normal(avg_hold_period,STD?)    \n",
    "\n",
    "2) output ~> workbook to capture cash flows for each\n",
    "\n",
    "3) workbook calculates Portfolio MOIC and Portfolio IRR  \n",
    "\n",
    "4) plots from dataframe ~> Excel  "
   ]
  },
  {
   "cell_type": "markdown",
   "id": "da70f333",
   "metadata": {},
   "source": [
    "###  Returns Distribution Parameters"
   ]
  },
  {
   "cell_type": "code",
   "execution_count": 52,
   "id": "5ff1cd1e",
   "metadata": {},
   "outputs": [
    {
     "data": {
      "image/png": "[encoded data removed]",
      "text/plain": [
       "<Figure size 432x288 with 1 Axes>"
      ]
     },
     "metadata": {
      "needs_background": "light"
     },
     "output_type": "display_data"
    }
   ],
   "source": [
    "returns_mean = 1.0\n",
    "returns_STD = 1.0\n",
    "returns_sims = 100_000\n",
    "\n",
    "plt.hist(np.random.lognormal(returns_mean,returns_STD,returns_sims),\n",
    "        bins = 500,\n",
    "        density = True,\n",
    "        align = 'mid')\n",
    "plt.xlim(0,50)\n",
    "plt.show()"
   ]
  },
  {
   "cell_type": "markdown",
   "id": "f733a4b6",
   "metadata": {},
   "source": [
    "### Investment Period Distribution Parameters"
   ]
  },
  {
   "cell_type": "code",
   "execution_count": 55,
   "id": "a109451a",
   "metadata": {},
   "outputs": [
    {
     "data": {
      "image/png": "[encoded data removed]",
      "text/plain": [
       "<Figure size 432x288 with 1 Axes>"
      ]
     },
     "metadata": {
      "needs_background": "light"
     },
     "output_type": "display_data"
    }
   ],
   "source": [
    "inv_period_lower_bound = 0\n",
    "inv_period_mode = 2.0\n",
    "inv_period_upper_bound = 5\n",
    "inv_period_sims = 100_000\n",
    "inv_period_bins = inv_period_upper_bound\n",
    "\n",
    "plt.hist(np.random.triangular(inv_period_lower_bound,inv_period_mode,inv_period_upper_bound,inv_period_sims),\n",
    "        bins = inv_period_bins,\n",
    "        density = True,\n",
    "        align = 'mid')\n",
    "plt.xlim(0,6)\n",
    "plt.show()"
   ]
  },
  {
   "cell_type": "markdown",
   "id": "d9fae995",
   "metadata": {},
   "source": [
    "### Hold Period Distribution Parameters"
   ]
  },
  {
   "cell_type": "code",
   "execution_count": 46,
   "id": "2828494a",
   "metadata": {},
   "outputs": [
    {
     "data": {
      "image/png": "[encoded data removed]",
      "text/plain": [
       "<Figure size 432x288 with 1 Axes>"
      ]
     },
     "metadata": {
      "needs_background": "light"
     },
     "output_type": "display_data"
    }
   ],
   "source": [
    "hold_period_sims = 10_000\n",
    "hold_period_mean= 4.5\n",
    "\n",
    "#Normal Distribution parameters\n",
    "\n",
    "# hold_period_STD = 2.0\n",
    "# plt.hist(np.random.normal(hold_period_mean,hold_period_STD,hold_period_sims),\n",
    "#         bins = 1_000,\n",
    "#         density = True,\n",
    "#         align = 'mid')\n",
    "# plt.xlim(0,upper_bound)\n",
    "# plt.show()\n",
    "\n",
    "#Triangular Distribution\n",
    "hold_period_lower_bound = 1\n",
    "hold_period_mode = hold_period_mean\n",
    "hold_period_upper_bound = 10\n",
    "\n",
    "hold_period_normal_dist = np.random.triangular(hold_period_lower_bound,hold_period_mode,hold_period_upper_bound,hold_period_sims)\n",
    "\n",
    "plt.hist(hold_period_normal_dist,\n",
    "        bins = 100,\n",
    "        density = True,\n",
    "        align = 'mid')\n",
    "plt.xlim(0,hold_period_upper_bound)\n",
    "plt.show()"
   ]
  },
  {
   "cell_type": "markdown",
   "id": "f8f60242",
   "metadata": {},
   "source": [
    "#### Connect workbook"
   ]
  },
  {
   "cell_type": "code",
   "execution_count": 30,
   "id": "77796dc8",
   "metadata": {},
   "outputs": [],
   "source": [
    "book = xw.Book('/Users/randycastleman/Dropbox/Code/Monte_Carlo/portfolio_monte_carlo.xlsx')"
   ]
  },
  {
   "cell_type": "code",
   "execution_count": 31,
   "id": "d1fe3de0",
   "metadata": {},
   "outputs": [],
   "source": [
    "model = book.sheets(\"Model\")"
   ]
  },
  {
   "cell_type": "code",
   "execution_count": 32,
   "id": "9137ce8b",
   "metadata": {},
   "outputs": [],
   "source": [
    "results = book.sheets(\"Results\")"
   ]
  },
  {
   "cell_type": "markdown",
   "id": "af4b39e0",
   "metadata": {},
   "source": [
    "### Fund Inputs"
   ]
  },
  {
   "cell_type": "code",
   "execution_count": 57,
   "id": "56fc59c2",
   "metadata": {},
   "outputs": [
    {
     "name": "stdout",
     "output_type": "stream",
     "text": [
      "Portfolio MOIC =  3.1327037322419193\n",
      "Portfolio IRR =  0.358372050523758\n"
     ]
    }
   ],
   "source": [
    "fund_size = 100\n",
    "model.range(\"C2\").value = fund_size\n",
    "\n",
    "num_companies = 10\n",
    "model.range(\"C3\").value = num_companies\n",
    "\n",
    "avg_initial_investment = fund_size / num_companies\n",
    "\n",
    "reserve_ratio = 1.0\n",
    "model.range(\"C4\").value = reserve_ratio\n",
    "\n",
    "inv_period_begin_date = date(2022,1,1)\n",
    "days = 365\n",
    "\n",
    "#capital in\n",
    "company1_capital_in = avg_initial_investment\n",
    "model.range(\"C16\").value = -company1_capital_in\n",
    "\n",
    "company2_capital_in = avg_initial_investment\n",
    "model.range(\"C17\").value = -company2_capital_in\n",
    "\n",
    "#determine capital out\n",
    "company1_capital_out = company1_capital_in * np.random.lognormal(returns_mean,returns_STD)\n",
    "model.range(\"D16\").value = company1_capital_out\n",
    "\n",
    "company2_capital_out = company2_capital_in * np.random.lognormal(returns_mean,returns_STD)\n",
    "model.range(\"D17\").value = company2_capital_out\n",
    "\n",
    "#determine investment date\n",
    "# entry_offset = timedelta(days = np.random.triangular(inv_period_lower_bound*days,\n",
    "#                                                      inv_period_mode*days,\n",
    "#                                                      inv_period_upper_bound*days))\n",
    "\n",
    "company1_inv_date = inv_period_begin_date + timedelta(days = np.random.triangular(inv_period_lower_bound*days,\n",
    "                                                     inv_period_mode*days,\n",
    "                                                     inv_period_upper_bound*days))\n",
    "model.range(\"E16\").value = company1_inv_date\n",
    "\n",
    "company2_inv_date = inv_period_begin_date + timedelta(days = np.random.triangular(inv_period_lower_bound*days,\n",
    "                                                     inv_period_mode*days,\n",
    "                                                     inv_period_upper_bound*days))\n",
    "model.range(\"E17\").value = company2_inv_date\n",
    "\n",
    "#determine exit date\n",
    "# exit_offset = timedelta(days = np.random.triangular(hold_period_lower_bound*days,\n",
    "#                                                     hold_period_mode*days,\n",
    "#                                                     hold_period_upper_bound*days))\n",
    "\n",
    "company1_exit_date = company1_inv_date + timedelta(days = np.random.triangular(hold_period_lower_bound*days,\n",
    "                                                    hold_period_mode*days,\n",
    "                                                    hold_period_upper_bound*days))\n",
    "model.range(\"F16\").value = company1_exit_date\n",
    "\n",
    "company2_exit_date = company1_inv_date + timedelta(days = np.random.triangular(hold_period_lower_bound*days,\n",
    "                                                    hold_period_mode*days,\n",
    "                                                    hold_period_upper_bound*days))\n",
    "model.range(\"F17\").value = company2_exit_date\n",
    "\n",
    "########## \n",
    "#get portfolio output\n",
    "portfolio_MOIC = model.range(\"C28\").value\n",
    "portfolio_IRR = model.range(\"C29\").value\n",
    "\n",
    "# print(\"Inv Period Begin Date = \",inv_period_begin_date)\n",
    "# print(\"Company 1 Capital In = \",company1_capital_in)\n",
    "# print(\"Company 1 Exit Proceeds = \",company1_capital_out)\n",
    "# print(\"Entry Offset = \",entry_offset)\n",
    "# print (\"Company 1 Investment Date = \", company1_inv_date)\n",
    "# print(\"Exit Offset = \",exit_offset)\n",
    "# print(\"Company 1 Exit Date = \",company1_exit_date)\n",
    "print(\"Portfolio MOIC = \",portfolio_MOIC)\n",
    "print(\"Portfolio IRR = \",portfolio_IRR)"
   ]
  },
  {
   "cell_type": "code",
   "execution_count": null,
   "id": "3019901c",
   "metadata": {},
   "outputs": [],
   "source": []
  }
 ],
 "metadata": {
  "kernelspec": {
   "display_name": "Python 3",
   "language": "python",
   "name": "python3"
  },
  "language_info": {
   "codemirror_mode": {
    "name": "ipython",
    "version": 3
   },
   "file_extension": ".py",
   "mimetype": "text/x-python",
   "name": "python",
   "nbconvert_exporter": "python",
   "pygments_lexer": "ipython3",
   "version": "3.8.8"
  }
 },
 "nbformat": 4,
 "nbformat_minor": 5
}
